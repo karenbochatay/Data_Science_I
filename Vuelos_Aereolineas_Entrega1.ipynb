{
  "nbformat": 4,
  "nbformat_minor": 0,
  "metadata": {
    "colab": {
      "provenance": [],
      "authorship_tag": "ABX9TyNYwJZ7cx2UwSmbJ1qwLb9y",
      "include_colab_link": true
    },
    "kernelspec": {
      "name": "python3",
      "display_name": "Python 3"
    },
    "language_info": {
      "name": "python"
    }
  },
  "cells": [
    {
      "cell_type": "markdown",
      "metadata": {
        "id": "view-in-github",
        "colab_type": "text"
      },
      "source": [
        "<a href=\"https://colab.research.google.com/github/karenbochatay/Data_Science_I/blob/main/Vuelos_Aereolineas_Entrega1.ipynb\" target=\"_parent\"><img src=\"https://colab.research.google.com/assets/colab-badge.svg\" alt=\"Open In Colab\"/></a>"
      ]
    },
    {
      "cell_type": "code",
      "execution_count": null,
      "metadata": {
        "id": "v1wobArSomtB"
      },
      "outputs": [],
      "source": [
        "# Importar librerías\n",
        "import matplotlib.pyplot as plt\n",
        "import seaborn as sns\n",
        "import pandas as pd\n",
        "import warnings"
      ]
    },
    {
      "cell_type": "code",
      "source": [
        "# Configuraciones opcionales para mejor visualización\n",
        "sns.set_theme(style=\"whitegrid\") # Establece un tema estético para los gráficos\n",
        "plt.rcParams['figure.figsize'] = (12, 6) # Establece un tamaño de figura por defecto\n",
        "warnings.filterwarnings('ignore') # Ignora advertencias (útil para presentaciones)"
      ],
      "metadata": {
        "id": "tCzxGElgou14"
      },
      "execution_count": null,
      "outputs": []
    },
    {
      "cell_type": "code",
      "source": [
        "import requests\n",
        "\n",
        "url = \"https://github.com/karenbochatay/Data_Science_I/raw/refs/heads/main/Dataset%20Proyecto%20Coderhouse%20Vuelos%20de%20Argentina%20de%202025.csv\"\n",
        "response = requests.get(url)  # Hace una solicitud GET para obtener el contenido del archivo\n",
        "print(response.text[:300])  # Imprime los primeros 300 caracteres del archivo para ver cómo está delimitado\n",
        "response = requests.get(url)  # Hace una solicitud GET para obtener el contenido del archivo\n",
        "print(response.text[:300])  # Imprime los primeros 300 caracteres del archivo para ver cómo está delimitado"
      ],
      "metadata": {
        "colab": {
          "base_uri": "https://localhost:8080/"
        },
        "id": "RcYwi-CqoxJo",
        "outputId": "84a67397-87b8-4f1d-94ef-73907297ca0b"
      },
      "execution_count": null,
      "outputs": [
        {
          "output_type": "stream",
          "name": "stdout",
          "text": [
            "indice_tiempo;clasificacion_vuelo;clase_vuelo;aerolinea;origen_oaci;origen_aeropuerto;origen_localidad;origen_provincia;origen_pais;origen_continente;destino_oaci;destino_aeropuerto;destino_localidad;destino_provincia;destino_pais;destino_continente;pasajeros;asientos;vuelos\r\n",
            "1/1/2025;Internacional;\n",
            "indice_tiempo;clasificacion_vuelo;clase_vuelo;aerolinea;origen_oaci;origen_aeropuerto;origen_localidad;origen_provincia;origen_pais;origen_continente;destino_oaci;destino_aeropuerto;destino_localidad;destino_provincia;destino_pais;destino_continente;pasajeros;asientos;vuelos\n",
            "1/1/2025;Internacional;\n"
          ]
        }
      ]
    }
  ]
}